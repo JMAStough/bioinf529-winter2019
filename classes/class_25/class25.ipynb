{
 "cells": [
  {
   "cell_type": "markdown",
   "metadata": {},
   "source": [
    "# Class : Agent-based modeling"
   ]
  },
  {
   "cell_type": "markdown",
   "metadata": {},
   "source": [
    "---\n",
    "## Before Class\n",
    "1. Install ffmpeg: `$ conda install ffmpeg`\n",
    "* Review game of life\n",
    "\n",
    "\n",
    "---\n",
    "## Learning Objectives\n",
    "1. Implement agent-based modeling\n",
    "* Implement animation in python\n"
   ]
  },
  {
   "cell_type": "markdown",
   "metadata": {},
   "source": [
    "---\n",
    "## Agent-based modeling\n",
    "\n",
    "Today we will be implementing a version of agent-based modeling or a cellular automaton. A classic example of this is Conway's Game of Life in which there are many 'cells' in a grid and their fate is determined by a set of simple rules:\n",
    "\n",
    "1. Any live cell with fewer than two live neighbours dies, as if by underpopulation.\n",
    "* Any live cell with two or three live neighbours lives on to the next generation.\n",
    "* Any live cell with more than three live neighbours dies, as if by overpopulation.\n",
    "* Any dead cell with exactly three live neighbours becomes a live cell, as if by reproduction.\n",
    "\n",
    "The fate of the cells is entirely dependant on the initial state of the system.\n",
    "\n",
    "<img src=\"figures/gol.gif\">\n",
    "\n"
   ]
  },
  {
   "cell_type": "code",
   "execution_count": null,
   "metadata": {},
   "outputs": [],
   "source": [
    "# You will need these imports\n",
    "import numpy as np \n",
    "import matplotlib.pyplot as plt  \n",
    "from matplotlib import animation, rc \n",
    "from IPython.display import HTML"
   ]
  },
  {
   "cell_type": "code",
   "execution_count": null,
   "metadata": {},
   "outputs": [],
   "source": [
    "# Define some global variables\n",
    "DEAD = 0\n",
    "ALIVE = 1"
   ]
  },
  {
   "cell_type": "code",
   "execution_count": null,
   "metadata": {},
   "outputs": [],
   "source": [
    "def random_grid(dim, fraction_alive, seed): \n",
    "    \"\"\" Initialize a random grid of dim x dim random values\n",
    "    \n",
    "    Args:\n",
    "        dim (int): dimensions for grid (will be square so x = y = dim)\n",
    "        fraction_alive (float): initial fraction of live cells on grid\n",
    "        seed (int): seed for np.random.choice\n",
    "    \n",
    "    Returns:\n",
    "        grid (numpy matrix): dim x dim numpy matrix populated with live and dead cells\n",
    "        \n",
    "    Example:\n",
    "    >>> random_grid(2, .5, 1) #doctest: +ELLIPSIS +NORMALIZE_WHITESPACE\n",
    "    array([[1, 0], [1, 1]])\n",
    "    \"\"\"\n",
    "    pass"
   ]
  },
  {
   "cell_type": "code",
   "execution_count": null,
   "metadata": {},
   "outputs": [],
   "source": [
    "def count_living_neighbors(row, column, grid):\n",
    "    \"\"\" Count how many living neighbors exist\n",
    "    \n",
    "    Args:\n",
    "        row (int): row of cell\n",
    "        column (int): column of cell\n",
    "        grid (np matrix): matrix of all cells\n",
    "        \n",
    "    Returns:\n",
    "        living_count (int): number of living neighbors\n",
    "    \n",
    "    Example:\n",
    "    >>> count_living_neighbors(1,1, random_grid(2,.5,1)) #doctest: +ELLIPSIS +NORMALIZE_WHITESPACE\n",
    "    2\n",
    "    \"\"\"\n",
    "    pass"
   ]
  },
  {
   "cell_type": "code",
   "execution_count": null,
   "metadata": {},
   "outputs": [],
   "source": [
    "def get_neighbors(row, column, grid):\n",
    "    \"\"\" Get the neighboring cells\n",
    "    excluding any that might be out of bounds\n",
    "    \n",
    "    Args:\n",
    "        row (int): row of cell\n",
    "        column (int): column of cell\n",
    "        grid (np matrix): matrix of all cells\n",
    "        \n",
    "    Returns:\n",
    "        neighbors (list): list of adjacent cells\n",
    "        \n",
    "    Example:\n",
    "    >>> get_neighbors(1,1, random_grid(2,.5,1)) #doctest: +ELLIPSIS +NORMALIZE_WHITESPACE\n",
    "    [1,0,1]\n",
    "    \"\"\"\n",
    "    pass\n"
   ]
  },
  {
   "cell_type": "code",
   "execution_count": null,
   "metadata": {},
   "outputs": [],
   "source": [
    "def update_grid(frameNum, img, grid, dim): \n",
    "    \"\"\" Update grid of cells based on rules:\n",
    "    \n",
    "    Any live cell with fewer than two live neighbours dies, as if by underpopulation.\n",
    "    Any live cell with two or three live neighbours lives on to the next generation.\n",
    "    Any live cell with more than three live neighbours dies, as if by overpopulation.\n",
    "    Any dead cell with exactly three live neighbours becomes a live cell, as if by reproduction.\n",
    "\n",
    "    Args:\n",
    "        frameNum (int): frame number for the simulation (this is passed by animation)\n",
    "        img (image object): this is passed by animation\n",
    "        grid (np array): this is passed by animation\n",
    "        dim (int): dimensions of grid (this is passed by animation)\n",
    "        \n",
    "    This function copies a new Grid over the existing grid for the animation process\n",
    "    \n",
    "    \"\"\"\n",
    "    pass\n"
   ]
  },
  {
   "cell_type": "code",
   "execution_count": null,
   "metadata": {},
   "outputs": [],
   "source": [
    "def run_simulation(grid_size = 100, fraction_alive = .5, updateInterval = 500, seed=42): \n",
    "    \"\"\" Function to run the full simulation\n",
    "    Each frame is an iteration of the model which calls update_grid\n",
    "    with the arguments listed in fargs\n",
    "    \n",
    "    img should be updated with img.set_data(newGrid) in each iteration of update_grid\n",
    "    \n",
    "    \"\"\"\n",
    "    # declare grid \n",
    "    grid = np.array([]) \n",
    "    grid = random_grid(grid_size, fraction_alive, seed=seed) \n",
    "  \n",
    "    # set up animation \n",
    "    fig, ax = plt.subplots(figsize=(6,6)) \n",
    "    img = ax.imshow(grid) \n",
    "    anim = animation.FuncAnimation(fig, update_grid, fargs=(img, grid, grid_size, ), \n",
    "                                  frames = 100, \n",
    "                                  interval=updateInterval) \n",
    "    \n",
    "    #anim.save('gol.gif', writer='imagemagick', fps=60)\n",
    "    return HTML(anim.to_html5_video())\n"
   ]
  },
  {
   "cell_type": "code",
   "execution_count": null,
   "metadata": {},
   "outputs": [],
   "source": [
    "%%capture\n",
    "game_of_life = run_simulation()"
   ]
  },
  {
   "cell_type": "code",
   "execution_count": null,
   "metadata": {},
   "outputs": [],
   "source": [
    "game_of_life"
   ]
  },
  {
   "cell_type": "code",
   "execution_count": null,
   "metadata": {},
   "outputs": [],
   "source": []
  }
 ],
 "metadata": {
  "kernelspec": {
   "display_name": "Python 3",
   "language": "python",
   "name": "python3"
  },
  "language_info": {
   "codemirror_mode": {
    "name": "ipython",
    "version": 3
   },
   "file_extension": ".py",
   "mimetype": "text/x-python",
   "name": "python",
   "nbconvert_exporter": "python",
   "pygments_lexer": "ipython3",
   "version": "3.7.2"
  }
 },
 "nbformat": 4,
 "nbformat_minor": 2
}
